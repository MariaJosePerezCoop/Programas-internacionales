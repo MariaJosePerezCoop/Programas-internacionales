{
 "cells": [
  {
   "cell_type": "code",
   "execution_count": 5,
   "id": "b7ee18d2",
   "metadata": {},
   "outputs": [
    {
     "ename": "ModuleNotFoundError",
     "evalue": "No module named 'streamlit'",
     "output_type": "error",
     "traceback": [
      "\u001b[1;31m---------------------------------------------------------------------------\u001b[0m",
      "\u001b[1;31mModuleNotFoundError\u001b[0m                       Traceback (most recent call last)",
      "\u001b[1;32mc:\\Users\\Asus\\Desktop\\programas internacionales\\Programas Internacionales.ipynb Celda 1\u001b[0m in \u001b[0;36m<cell line: 3>\u001b[1;34m()\u001b[0m\n\u001b[0;32m      <a href='vscode-notebook-cell:/c%3A/Users/Asus/Desktop/programas%20internacionales/Programas%20Internacionales.ipynb#W0sZmlsZQ%3D%3D?line=0'>1</a>\u001b[0m \u001b[39mimport\u001b[39;00m \u001b[39mpandas\u001b[39;00m \u001b[39mas\u001b[39;00m \u001b[39mpd\u001b[39;00m\n\u001b[0;32m      <a href='vscode-notebook-cell:/c%3A/Users/Asus/Desktop/programas%20internacionales/Programas%20Internacionales.ipynb#W0sZmlsZQ%3D%3D?line=1'>2</a>\u001b[0m \u001b[39mimport\u001b[39;00m \u001b[39mplotly\u001b[39;00m\u001b[39m.\u001b[39;00m\u001b[39mexpress\u001b[39;00m \u001b[39mas\u001b[39;00m \u001b[39mpx\u001b[39;00m\n\u001b[1;32m----> <a href='vscode-notebook-cell:/c%3A/Users/Asus/Desktop/programas%20internacionales/Programas%20Internacionales.ipynb#W0sZmlsZQ%3D%3D?line=2'>3</a>\u001b[0m \u001b[39mimport\u001b[39;00m \u001b[39mstreamlit\u001b[39;00m \u001b[39mas\u001b[39;00m \u001b[39mst\u001b[39;00m\n\u001b[0;32m      <a href='vscode-notebook-cell:/c%3A/Users/Asus/Desktop/programas%20internacionales/Programas%20Internacionales.ipynb#W0sZmlsZQ%3D%3D?line=3'>4</a>\u001b[0m \u001b[39mfrom\u001b[39;00m \u001b[39mPIL\u001b[39;00m \u001b[39mimport\u001b[39;00m Image\n\u001b[0;32m      <a href='vscode-notebook-cell:/c%3A/Users/Asus/Desktop/programas%20internacionales/Programas%20Internacionales.ipynb#W0sZmlsZQ%3D%3D?line=5'>6</a>\u001b[0m df\u001b[39m=\u001b[39mpd\u001b[39m.\u001b[39mread_csv(\u001b[39m'\u001b[39m\u001b[39minternacional.csv\u001b[39m\u001b[39m'\u001b[39m)\n",
      "\u001b[1;31mModuleNotFoundError\u001b[0m: No module named 'streamlit'"
     ]
    }
   ],
   "source": [
    "import pandas as pd\n",
    "import plotly.express as px\n",
    "import streamlit as st\n",
    "from PIL import Image\n",
    "\n",
    "df=pd.read_csv('internacional.csv')\n",
    "df.head()"
   ]
  },
  {
   "cell_type": "code",
   "execution_count": null,
   "id": "24e6631d",
   "metadata": {},
   "outputs": [],
   "source": [
    "df.dtypes"
   ]
  },
  {
   "cell_type": "code",
   "execution_count": null,
   "id": "78a095a2",
   "metadata": {},
   "outputs": [],
   "source": [
    "fig=px.histogram(df, x='Promedio')\n",
    "\n",
    "fig.show()"
   ]
  },
  {
   "cell_type": "code",
   "execution_count": null,
   "id": "fa1be399",
   "metadata": {},
   "outputs": [],
   "source": [
    "df['Estatus'].value_counts()"
   ]
  },
  {
   "cell_type": "code",
   "execution_count": null,
   "id": "06f58617",
   "metadata": {},
   "outputs": [],
   "source": [
    "df=df.dropna()\n",
    "df['EstatusNuevo']=df['Estatus'].str[:1]\n",
    "df['EstatusNuevo'].value_counts()"
   ]
  },
  {
   "cell_type": "code",
   "execution_count": null,
   "id": "c069ceb4",
   "metadata": {},
   "outputs": [],
   "source": [
    "df=df.replace(['A','P'],'Asignado')\n",
    "df=df.replace(['E','I','C','T','R','N'],'Rechazado')\n",
    "df['EstatusNuevo'].value_counts()"
   ]
  },
  {
   "cell_type": "code",
   "execution_count": null,
   "id": "57a17361",
   "metadata": {},
   "outputs": [],
   "source": [
    "def tipos_intercambio(df):\n",
    "    if('INT' in df['OportunidadAsignada']):\n",
    "        return 'Intercambio Tradicional'\n",
    "    else:\n",
    "        return 'Study Abroad'\n",
    "        \n",
    "df['Tipo de intercanbio']=df.apply(tipos_intercambio, axis=1)\n",
    "df['Tipo de intercanbio'].value_counts('primero')"
   ]
  },
  {
   "cell_type": "code",
   "execution_count": null,
   "id": "70a81f5d",
   "metadata": {},
   "outputs": [],
   "source": [
    "df.head()"
   ]
  },
  {
   "cell_type": "code",
   "execution_count": null,
   "id": "4c48365a",
   "metadata": {},
   "outputs": [],
   "source": [
    "def getFirstChoice(text):\n",
    "    text = text[text.find(\"1 - \")+4:]\n",
    "    if text.find(\",\") == -1:\n",
    "        return text\n",
    "    else:\n",
    "        return text[:text.find(\",\")]\n",
    "\n",
    "df[\"Número de oportunidad asignada\"] = df[\"OportunidadesSeleccionadas\"].apply(getFirstChoice)"
   ]
  },
  {
   "cell_type": "code",
   "execution_count": null,
   "id": "06db95d0",
   "metadata": {},
   "outputs": [],
   "source": [
    "df.head()"
   ]
  },
  {
   "cell_type": "code",
   "execution_count": null,
   "id": "757461b7",
   "metadata": {},
   "outputs": [],
   "source": [
    "def primera_oportunidad(df):\n",
    "    if(df['OportunidadAsignada'] in df['Número de oportunidad asignada']):\n",
    "        return ('Primera oportunidad')\n",
    "    else:\n",
    "        return ('Otra oportunidad')\n",
    "        \n",
    "df['Número de oportunidad asignada']=df.apply(primera_oportunidad, axis=1)\n",
    "df['Número de oportunidad asignada'].value_counts()"
   ]
  },
  {
   "cell_type": "code",
   "execution_count": null,
   "id": "ba36da39",
   "metadata": {},
   "outputs": [],
   "source": [
    "df.head()"
   ]
  },
  {
   "cell_type": "code",
   "execution_count": null,
   "id": "99638de3",
   "metadata": {},
   "outputs": [],
   "source": [
    "Primeraopcion=df[\"Número de oportunidad asignada\"].value_counts('Primera oportunidad')\n",
    "Primeraopcion[0]\n",
    "#Porcentaje_primeraopcion = (df[\"Oportunidad final\"].sum())/(df[\"Oportunidad final\"].count())\n",
    "#Porcentaje_primeraopcion"
   ]
  },
  {
   "cell_type": "code",
   "execution_count": null,
   "id": "b208d2e8",
   "metadata": {},
   "outputs": [],
   "source": []
  }
 ],
 "metadata": {
  "kernelspec": {
   "display_name": "Python 3.9.12 ('base')",
   "language": "python",
   "name": "python3"
  },
  "language_info": {
   "codemirror_mode": {
    "name": "ipython",
    "version": 3
   },
   "file_extension": ".py",
   "mimetype": "text/x-python",
   "name": "python",
   "nbconvert_exporter": "python",
   "pygments_lexer": "ipython3",
   "version": "3.9.12"
  },
  "vscode": {
   "interpreter": {
    "hash": "52d90d3cc821dd0beedd6e719dbdecc722c226b9d90ed1b663c34e1877f1142e"
   }
  }
 },
 "nbformat": 4,
 "nbformat_minor": 5
}
