{
 "cells": [
  {
   "cell_type": "markdown",
   "metadata": {
    "id": "pfQ_ldIXXQnJ"
   },
   "source": [
    "# Para poder usar Dash en Google Colab se debe de instalar la librería jupyter_dash"
   ]
  },
  {
   "cell_type": "code",
   "execution_count": 16,
   "metadata": {
    "colab": {
     "base_uri": "https://localhost:8080/"
    },
    "id": "wfbCNOnKXGx6",
    "outputId": "474f79e6-c72e-442d-8ad0-5455072cace1"
   },
   "outputs": [
    {
     "name": "stdout",
     "output_type": "stream",
     "text": [
      "Requirement already satisfied: jupyter-dash in c:\\users\\asus\\anaconda3\\lib\\site-packages (0.4.2)\n",
      "Requirement already satisfied: ansi2html in c:\\users\\asus\\anaconda3\\lib\\site-packages (from jupyter-dash) (1.8.0)\n",
      "Requirement already satisfied: ipykernel in c:\\users\\asus\\anaconda3\\lib\\site-packages (from jupyter-dash) (6.9.1)\n",
      "Requirement already satisfied: requests in c:\\users\\asus\\anaconda3\\lib\\site-packages (from jupyter-dash) (2.27.1)\n",
      "Requirement already satisfied: ipython in c:\\users\\asus\\anaconda3\\lib\\site-packages (from jupyter-dash) (8.2.0)\n",
      "Requirement already satisfied: flask in c:\\users\\asus\\anaconda3\\lib\\site-packages (from jupyter-dash) (1.1.2)\n",
      "Requirement already satisfied: dash in c:\\users\\asus\\anaconda3\\lib\\site-packages (from jupyter-dash) (2.7.0)\n",
      "Requirement already satisfied: nest-asyncio in c:\\users\\asus\\anaconda3\\lib\\site-packages (from jupyter-dash) (1.5.5)\n",
      "Requirement already satisfied: retrying in c:\\users\\asus\\anaconda3\\lib\\site-packages (from jupyter-dash) (1.3.3)\n",
      "Requirement already satisfied: plotly>=5.0.0 in c:\\users\\asus\\anaconda3\\lib\\site-packages (from dash->jupyter-dash) (5.6.0)\n",
      "Requirement already satisfied: dash-core-components==2.0.0 in c:\\users\\asus\\anaconda3\\lib\\site-packages (from dash->jupyter-dash) (2.0.0)\n",
      "Requirement already satisfied: dash-html-components==2.0.0 in c:\\users\\asus\\anaconda3\\lib\\site-packages (from dash->jupyter-dash) (2.0.0)\n",
      "Requirement already satisfied: dash-table==5.0.0 in c:\\users\\asus\\anaconda3\\lib\\site-packages (from dash->jupyter-dash) (5.0.0)\n",
      "Requirement already satisfied: itsdangerous>=0.24 in c:\\users\\asus\\anaconda3\\lib\\site-packages (from flask->jupyter-dash) (2.0.1)\n",
      "Requirement already satisfied: click>=5.1 in c:\\users\\asus\\anaconda3\\lib\\site-packages (from flask->jupyter-dash) (8.0.4)\n",
      "Requirement already satisfied: Werkzeug>=0.15 in c:\\users\\asus\\anaconda3\\lib\\site-packages (from flask->jupyter-dash) (2.0.3)\n",
      "Requirement already satisfied: Jinja2>=2.10.1 in c:\\users\\asus\\anaconda3\\lib\\site-packages (from flask->jupyter-dash) (2.11.3)\n",
      "Requirement already satisfied: colorama in c:\\users\\asus\\anaconda3\\lib\\site-packages (from click>=5.1->flask->jupyter-dash) (0.4.4)\n",
      "Requirement already satisfied: MarkupSafe>=0.23 in c:\\users\\asus\\anaconda3\\lib\\site-packages (from Jinja2>=2.10.1->flask->jupyter-dash) (2.0.1)\n",
      "Requirement already satisfied: tenacity>=6.2.0 in c:\\users\\asus\\anaconda3\\lib\\site-packages (from plotly>=5.0.0->dash->jupyter-dash) (8.0.1)\n",
      "Requirement already satisfied: six in c:\\users\\asus\\anaconda3\\lib\\site-packages (from plotly>=5.0.0->dash->jupyter-dash) (1.16.0)\n",
      "Requirement already satisfied: tornado<7.0,>=4.2 in c:\\users\\asus\\anaconda3\\lib\\site-packages (from ipykernel->jupyter-dash) (6.1)\n",
      "Requirement already satisfied: traitlets<6.0,>=5.1.0 in c:\\users\\asus\\anaconda3\\lib\\site-packages (from ipykernel->jupyter-dash) (5.1.1)\n",
      "Requirement already satisfied: debugpy<2.0,>=1.0.0 in c:\\users\\asus\\anaconda3\\lib\\site-packages (from ipykernel->jupyter-dash) (1.5.1)\n",
      "Requirement already satisfied: matplotlib-inline<0.2.0,>=0.1.0 in c:\\users\\asus\\anaconda3\\lib\\site-packages (from ipykernel->jupyter-dash) (0.1.2)\n",
      "Requirement already satisfied: jupyter-client<8.0 in c:\\users\\asus\\anaconda3\\lib\\site-packages (from ipykernel->jupyter-dash) (6.1.12)\n",
      "Requirement already satisfied: setuptools>=18.5 in c:\\users\\asus\\anaconda3\\lib\\site-packages (from ipython->jupyter-dash) (61.2.0)\n",
      "Requirement already satisfied: backcall in c:\\users\\asus\\anaconda3\\lib\\site-packages (from ipython->jupyter-dash) (0.2.0)\n",
      "Requirement already satisfied: pickleshare in c:\\users\\asus\\anaconda3\\lib\\site-packages (from ipython->jupyter-dash) (0.7.5)\n",
      "Requirement already satisfied: prompt-toolkit!=3.0.0,!=3.0.1,<3.1.0,>=2.0.0 in c:\\users\\asus\\anaconda3\\lib\\site-packages (from ipython->jupyter-dash) (3.0.20)\n",
      "Requirement already satisfied: decorator in c:\\users\\asus\\anaconda3\\lib\\site-packages (from ipython->jupyter-dash) (5.1.1)\n",
      "Requirement already satisfied: jedi>=0.16 in c:\\users\\asus\\anaconda3\\lib\\site-packages (from ipython->jupyter-dash) (0.18.1)\n",
      "Requirement already satisfied: pygments>=2.4.0 in c:\\users\\asus\\anaconda3\\lib\\site-packages (from ipython->jupyter-dash) (2.11.2)\n",
      "Requirement already satisfied: stack-data in c:\\users\\asus\\anaconda3\\lib\\site-packages (from ipython->jupyter-dash) (0.2.0)\n",
      "Requirement already satisfied: parso<0.9.0,>=0.8.0 in c:\\users\\asus\\anaconda3\\lib\\site-packages (from jedi>=0.16->ipython->jupyter-dash) (0.8.3)\n",
      "Requirement already satisfied: python-dateutil>=2.1 in c:\\users\\asus\\anaconda3\\lib\\site-packages (from jupyter-client<8.0->ipykernel->jupyter-dash) (2.8.2)\n",
      "Requirement already satisfied: jupyter-core>=4.6.0 in c:\\users\\asus\\anaconda3\\lib\\site-packages (from jupyter-client<8.0->ipykernel->jupyter-dash) (4.9.2)\n",
      "Requirement already satisfied: pyzmq>=13 in c:\\users\\asus\\anaconda3\\lib\\site-packages (from jupyter-client<8.0->ipykernel->jupyter-dash) (22.3.0)\n",
      "Requirement already satisfied: pywin32>=1.0 in c:\\users\\asus\\anaconda3\\lib\\site-packages (from jupyter-core>=4.6.0->jupyter-client<8.0->ipykernel->jupyter-dash) (302)\n",
      "Requirement already satisfied: wcwidth in c:\\users\\asus\\anaconda3\\lib\\site-packages (from prompt-toolkit!=3.0.0,!=3.0.1,<3.1.0,>=2.0.0->ipython->jupyter-dash) (0.2.5)\n",
      "Requirement already satisfied: idna<4,>=2.5 in c:\\users\\asus\\anaconda3\\lib\\site-packages (from requests->jupyter-dash) (3.3)\n",
      "Requirement already satisfied: certifi>=2017.4.17 in c:\\users\\asus\\anaconda3\\lib\\site-packages (from requests->jupyter-dash) (2021.10.8)\n",
      "Requirement already satisfied: charset-normalizer~=2.0.0 in c:\\users\\asus\\anaconda3\\lib\\site-packages (from requests->jupyter-dash) (2.0.4)\n",
      "Requirement already satisfied: urllib3<1.27,>=1.21.1 in c:\\users\\asus\\anaconda3\\lib\\site-packages (from requests->jupyter-dash) (1.26.9)\n",
      "Requirement already satisfied: asttokens in c:\\users\\asus\\anaconda3\\lib\\site-packages (from stack-data->ipython->jupyter-dash) (2.0.5)\n",
      "Requirement already satisfied: executing in c:\\users\\asus\\anaconda3\\lib\\site-packages (from stack-data->ipython->jupyter-dash) (0.8.3)\n",
      "Requirement already satisfied: pure-eval in c:\\users\\asus\\anaconda3\\lib\\site-packages (from stack-data->ipython->jupyter-dash) (0.2.2)\n"
     ]
    }
   ],
   "source": [
    "!pip install jupyter-dash"
   ]
  },
  {
   "cell_type": "markdown",
   "metadata": {
    "id": "bn1XmYPDXUVH"
   },
   "source": [
    "# Se dan de alta las librerías a utilizar"
   ]
  },
  {
   "cell_type": "code",
   "execution_count": 17,
   "metadata": {
    "colab": {
     "base_uri": "https://localhost:8080/",
     "height": 156
    },
    "id": "UUyH6mvYXXiM",
    "outputId": "b2e1d544-a0e1-4b57-fc7c-cbf02cc27c81"
   },
   "outputs": [],
   "source": [
    "import dash\n",
    "import dash_html_components as html\n",
    "import dash_core_components as dcc\n",
    "import plotly.graph_objects as go\n",
    "import plotly.express as px\n",
    "from dash.dependencies import Input, Output\n",
    "from jupyter_dash import JupyterDash"
   ]
  },
  {
   "cell_type": "markdown",
   "metadata": {
    "id": "_9EKm2z-XaHA"
   },
   "source": [
    "# Se inicializa una variable para crear la aplicación"
   ]
  },
  {
   "cell_type": "code",
   "execution_count": 18,
   "metadata": {
    "id": "Unw0KEEcXdO-"
   },
   "outputs": [],
   "source": [
    "app = JupyterDash(__name__)"
   ]
  },
  {
   "cell_type": "markdown",
   "metadata": {
    "id": "HYVT7qbvXgFn"
   },
   "source": [
    "# Se carga la base de datos"
   ]
  },
  {
   "cell_type": "code",
   "execution_count": 19,
   "metadata": {
    "id": "0Hc1nAZJXiaT"
   },
   "outputs": [],
   "source": [
    "df = px.data.stocks()"
   ]
  },
  {
   "cell_type": "markdown",
   "metadata": {
    "id": "Ya78fEOeXkIp"
   },
   "source": [
    "# Se genera el contenido que se tendrá en la aplicación web"
   ]
  },
  {
   "cell_type": "code",
   "execution_count": 20,
   "metadata": {
    "id": "FjwG0icvXmxH"
   },
   "outputs": [],
   "source": [
    "app.layout = html.Div(id = 'parent', children = [\n",
    "    html.H1(id = 'H1', children = 'Styling using html components', style = {'textAlign':'center',\\\n",
    "                                            'marginTop':40,'marginBottom':40}),\n",
    "\n",
    "        dcc.Dropdown( id = 'dropdown',\n",
    "        options = [\n",
    "            {'label':'Google', 'value':'GOOG' },\n",
    "            {'label': 'Apple', 'value':'AAPL'},\n",
    "            {'label': 'Amazon', 'value':'AMZN'},\n",
    "            ],\n",
    "        value = 'GOOG'),\n",
    "        dcc.Graph(id = 'bar_plot')\n",
    "    ])"
   ]
  },
  {
   "cell_type": "markdown",
   "metadata": {
    "id": "WPM24YzdXpNx"
   },
   "source": [
    "# Se establece el proceso para la entrada y salida de datos"
   ]
  },
  {
   "cell_type": "markdown",
   "metadata": {
    "id": "yD_pr0CJXs3r"
   },
   "source": [
    "Se define una función para crear y actualizar el gráfico"
   ]
  },
  {
   "cell_type": "code",
   "execution_count": 21,
   "metadata": {
    "id": "YcmSJAXmXu7H"
   },
   "outputs": [],
   "source": [
    "@app.callback(Output(component_id='bar_plot', component_property= 'figure'),\n",
    "              [Input(component_id='dropdown', component_property= 'value')])\n",
    "def graph_update(dropdown_value):\n",
    "    print(dropdown_value)\n",
    "    fig = go.Figure([go.Scatter(x = df['date'], y = df['{}'.format(dropdown_value)],\\\n",
    "                     line = dict(color = 'firebrick', width = 4))\n",
    "                     ])\n",
    "    \n",
    "    fig.update_layout(title = 'Stock prices over time',\n",
    "                      xaxis_title = 'Dates',\n",
    "                      yaxis_title = 'Prices'\n",
    "                      )\n",
    "    return fig"
   ]
  },
  {
   "cell_type": "markdown",
   "metadata": {
    "id": "9NtneclzXxrW"
   },
   "source": [
    "# Se ejecuta la aplicación"
   ]
  },
  {
   "cell_type": "code",
   "execution_count": 22,
   "metadata": {
    "colab": {
     "base_uri": "https://localhost:8080/",
     "height": 672
    },
    "id": "40Ma5P3BXz1m",
    "outputId": "f099c843-38e3-43d4-bf2d-ba8ac8453109"
   },
   "outputs": [
    {
     "ename": "OSError",
     "evalue": "Address 'http://127.0.0.1:8050' already in use.\n    Try passing a different port to run_server.",
     "output_type": "error",
     "traceback": [
      "\u001b[1;31m---------------------------------------------------------------------------\u001b[0m",
      "\u001b[1;31mOSError\u001b[0m                                   Traceback (most recent call last)",
      "Input \u001b[1;32mIn [22]\u001b[0m, in \u001b[0;36m<cell line: 1>\u001b[1;34m()\u001b[0m\n\u001b[1;32m----> 1\u001b[0m \u001b[43mapp\u001b[49m\u001b[38;5;241;43m.\u001b[39;49m\u001b[43mrun_server\u001b[49m\u001b[43m(\u001b[49m\u001b[43mmode\u001b[49m\u001b[38;5;241;43m=\u001b[39;49m\u001b[38;5;124;43m'\u001b[39;49m\u001b[38;5;124;43minline\u001b[39;49m\u001b[38;5;124;43m'\u001b[39;49m\u001b[43m)\u001b[49m\n",
      "File \u001b[1;32m~\\anaconda3\\lib\\site-packages\\jupyter_dash\\jupyter_app.py:339\u001b[0m, in \u001b[0;36mJupyterDash.run_server\u001b[1;34m(self, mode, width, height, inline_exceptions, **kwargs)\u001b[0m\n\u001b[0;32m    329\u001b[0m         url \u001b[38;5;241m=\u001b[39m \u001b[38;5;124m\"\u001b[39m\u001b[38;5;124mhttp://\u001b[39m\u001b[38;5;132;01m{host}\u001b[39;00m\u001b[38;5;124m:\u001b[39m\u001b[38;5;132;01m{port}\u001b[39;00m\u001b[38;5;124m\"\u001b[39m\u001b[38;5;241m.\u001b[39mformat(\n\u001b[0;32m    330\u001b[0m             host\u001b[38;5;241m=\u001b[39mhost, port\u001b[38;5;241m=\u001b[39mport, token\u001b[38;5;241m=\u001b[39mJupyterDash\u001b[38;5;241m.\u001b[39m_token\n\u001b[0;32m    331\u001b[0m         )\n\u001b[0;32m    332\u001b[0m         \u001b[38;5;28;01mraise\u001b[39;00m \u001b[38;5;167;01mOSError\u001b[39;00m(\n\u001b[0;32m    333\u001b[0m             \u001b[38;5;124m\"\u001b[39m\u001b[38;5;124mAddress \u001b[39m\u001b[38;5;124m'\u001b[39m\u001b[38;5;132;01m{url}\u001b[39;00m\u001b[38;5;124m'\u001b[39m\u001b[38;5;124m already in use.\u001b[39m\u001b[38;5;130;01m\\n\u001b[39;00m\u001b[38;5;124m\"\u001b[39m\n\u001b[0;32m    334\u001b[0m             \u001b[38;5;124m\"\u001b[39m\u001b[38;5;124m    Try passing a different port to run_server.\u001b[39m\u001b[38;5;124m\"\u001b[39m\u001b[38;5;241m.\u001b[39mformat(\n\u001b[0;32m    335\u001b[0m                 url\u001b[38;5;241m=\u001b[39murl\n\u001b[0;32m    336\u001b[0m             )\n\u001b[0;32m    337\u001b[0m         )\n\u001b[1;32m--> 339\u001b[0m \u001b[43mwait_for_app\u001b[49m\u001b[43m(\u001b[49m\u001b[43m)\u001b[49m\n\u001b[0;32m    341\u001b[0m \u001b[38;5;28;01mif\u001b[39;00m JupyterDash\u001b[38;5;241m.\u001b[39m_in_colab:\n\u001b[0;32m    342\u001b[0m     \u001b[38;5;28mself\u001b[39m\u001b[38;5;241m.\u001b[39m_display_in_colab(dashboard_url, port, mode, width, height)\n",
      "File \u001b[1;32m~\\anaconda3\\lib\\site-packages\\retrying.py:49\u001b[0m, in \u001b[0;36mretry.<locals>.wrap.<locals>.wrapped_f\u001b[1;34m(*args, **kw)\u001b[0m\n\u001b[0;32m     47\u001b[0m \u001b[38;5;129m@six\u001b[39m\u001b[38;5;241m.\u001b[39mwraps(f)\n\u001b[0;32m     48\u001b[0m \u001b[38;5;28;01mdef\u001b[39;00m \u001b[38;5;21mwrapped_f\u001b[39m(\u001b[38;5;241m*\u001b[39margs, \u001b[38;5;241m*\u001b[39m\u001b[38;5;241m*\u001b[39mkw):\n\u001b[1;32m---> 49\u001b[0m     \u001b[38;5;28;01mreturn\u001b[39;00m Retrying(\u001b[38;5;241m*\u001b[39mdargs, \u001b[38;5;241m*\u001b[39m\u001b[38;5;241m*\u001b[39mdkw)\u001b[38;5;241m.\u001b[39mcall(f, \u001b[38;5;241m*\u001b[39margs, \u001b[38;5;241m*\u001b[39m\u001b[38;5;241m*\u001b[39mkw)\n",
      "File \u001b[1;32m~\\anaconda3\\lib\\site-packages\\retrying.py:212\u001b[0m, in \u001b[0;36mRetrying.call\u001b[1;34m(self, fn, *args, **kwargs)\u001b[0m\n\u001b[0;32m    209\u001b[0m \u001b[38;5;28;01mif\u001b[39;00m \u001b[38;5;28mself\u001b[39m\u001b[38;5;241m.\u001b[39mstop(attempt_number, delay_since_first_attempt_ms):\n\u001b[0;32m    210\u001b[0m     \u001b[38;5;28;01mif\u001b[39;00m \u001b[38;5;129;01mnot\u001b[39;00m \u001b[38;5;28mself\u001b[39m\u001b[38;5;241m.\u001b[39m_wrap_exception \u001b[38;5;129;01mand\u001b[39;00m attempt\u001b[38;5;241m.\u001b[39mhas_exception:\n\u001b[0;32m    211\u001b[0m         \u001b[38;5;66;03m# get() on an attempt with an exception should cause it to be raised, but raise just in case\u001b[39;00m\n\u001b[1;32m--> 212\u001b[0m         \u001b[38;5;28;01mraise\u001b[39;00m \u001b[43mattempt\u001b[49m\u001b[38;5;241;43m.\u001b[39;49m\u001b[43mget\u001b[49m\u001b[43m(\u001b[49m\u001b[43m)\u001b[49m\n\u001b[0;32m    213\u001b[0m     \u001b[38;5;28;01melse\u001b[39;00m:\n\u001b[0;32m    214\u001b[0m         \u001b[38;5;28;01mraise\u001b[39;00m RetryError(attempt)\n",
      "File \u001b[1;32m~\\anaconda3\\lib\\site-packages\\retrying.py:247\u001b[0m, in \u001b[0;36mAttempt.get\u001b[1;34m(self, wrap_exception)\u001b[0m\n\u001b[0;32m    245\u001b[0m         \u001b[38;5;28;01mraise\u001b[39;00m RetryError(\u001b[38;5;28mself\u001b[39m)\n\u001b[0;32m    246\u001b[0m     \u001b[38;5;28;01melse\u001b[39;00m:\n\u001b[1;32m--> 247\u001b[0m         \u001b[43msix\u001b[49m\u001b[38;5;241;43m.\u001b[39;49m\u001b[43mreraise\u001b[49m\u001b[43m(\u001b[49m\u001b[38;5;28;43mself\u001b[39;49m\u001b[38;5;241;43m.\u001b[39;49m\u001b[43mvalue\u001b[49m\u001b[43m[\u001b[49m\u001b[38;5;241;43m0\u001b[39;49m\u001b[43m]\u001b[49m\u001b[43m,\u001b[49m\u001b[43m \u001b[49m\u001b[38;5;28;43mself\u001b[39;49m\u001b[38;5;241;43m.\u001b[39;49m\u001b[43mvalue\u001b[49m\u001b[43m[\u001b[49m\u001b[38;5;241;43m1\u001b[39;49m\u001b[43m]\u001b[49m\u001b[43m,\u001b[49m\u001b[43m \u001b[49m\u001b[38;5;28;43mself\u001b[39;49m\u001b[38;5;241;43m.\u001b[39;49m\u001b[43mvalue\u001b[49m\u001b[43m[\u001b[49m\u001b[38;5;241;43m2\u001b[39;49m\u001b[43m]\u001b[49m\u001b[43m)\u001b[49m\n\u001b[0;32m    248\u001b[0m \u001b[38;5;28;01melse\u001b[39;00m:\n\u001b[0;32m    249\u001b[0m     \u001b[38;5;28;01mreturn\u001b[39;00m \u001b[38;5;28mself\u001b[39m\u001b[38;5;241m.\u001b[39mvalue\n",
      "File \u001b[1;32m~\\anaconda3\\lib\\site-packages\\six.py:719\u001b[0m, in \u001b[0;36mreraise\u001b[1;34m(tp, value, tb)\u001b[0m\n\u001b[0;32m    717\u001b[0m     \u001b[38;5;28;01mif\u001b[39;00m value\u001b[38;5;241m.\u001b[39m__traceback__ \u001b[38;5;129;01mis\u001b[39;00m \u001b[38;5;129;01mnot\u001b[39;00m tb:\n\u001b[0;32m    718\u001b[0m         \u001b[38;5;28;01mraise\u001b[39;00m value\u001b[38;5;241m.\u001b[39mwith_traceback(tb)\n\u001b[1;32m--> 719\u001b[0m     \u001b[38;5;28;01mraise\u001b[39;00m value\n\u001b[0;32m    720\u001b[0m \u001b[38;5;28;01mfinally\u001b[39;00m:\n\u001b[0;32m    721\u001b[0m     value \u001b[38;5;241m=\u001b[39m \u001b[38;5;28;01mNone\u001b[39;00m\n",
      "File \u001b[1;32m~\\anaconda3\\lib\\site-packages\\retrying.py:200\u001b[0m, in \u001b[0;36mRetrying.call\u001b[1;34m(self, fn, *args, **kwargs)\u001b[0m\n\u001b[0;32m    198\u001b[0m \u001b[38;5;28;01mwhile\u001b[39;00m \u001b[38;5;28;01mTrue\u001b[39;00m:\n\u001b[0;32m    199\u001b[0m     \u001b[38;5;28;01mtry\u001b[39;00m:\n\u001b[1;32m--> 200\u001b[0m         attempt \u001b[38;5;241m=\u001b[39m Attempt(fn(\u001b[38;5;241m*\u001b[39margs, \u001b[38;5;241m*\u001b[39m\u001b[38;5;241m*\u001b[39mkwargs), attempt_number, \u001b[38;5;28;01mFalse\u001b[39;00m)\n\u001b[0;32m    201\u001b[0m     \u001b[38;5;28;01mexcept\u001b[39;00m:\n\u001b[0;32m    202\u001b[0m         tb \u001b[38;5;241m=\u001b[39m sys\u001b[38;5;241m.\u001b[39mexc_info()\n",
      "File \u001b[1;32m~\\anaconda3\\lib\\site-packages\\jupyter_dash\\jupyter_app.py:332\u001b[0m, in \u001b[0;36mJupyterDash.run_server.<locals>.wait_for_app\u001b[1;34m()\u001b[0m\n\u001b[0;32m    328\u001b[0m \u001b[38;5;28;01mif\u001b[39;00m res \u001b[38;5;241m!=\u001b[39m \u001b[38;5;124m\"\u001b[39m\u001b[38;5;124mAlive\u001b[39m\u001b[38;5;124m\"\u001b[39m:\n\u001b[0;32m    329\u001b[0m     url \u001b[38;5;241m=\u001b[39m \u001b[38;5;124m\"\u001b[39m\u001b[38;5;124mhttp://\u001b[39m\u001b[38;5;132;01m{host}\u001b[39;00m\u001b[38;5;124m:\u001b[39m\u001b[38;5;132;01m{port}\u001b[39;00m\u001b[38;5;124m\"\u001b[39m\u001b[38;5;241m.\u001b[39mformat(\n\u001b[0;32m    330\u001b[0m         host\u001b[38;5;241m=\u001b[39mhost, port\u001b[38;5;241m=\u001b[39mport, token\u001b[38;5;241m=\u001b[39mJupyterDash\u001b[38;5;241m.\u001b[39m_token\n\u001b[0;32m    331\u001b[0m     )\n\u001b[1;32m--> 332\u001b[0m     \u001b[38;5;28;01mraise\u001b[39;00m \u001b[38;5;167;01mOSError\u001b[39;00m(\n\u001b[0;32m    333\u001b[0m         \u001b[38;5;124m\"\u001b[39m\u001b[38;5;124mAddress \u001b[39m\u001b[38;5;124m'\u001b[39m\u001b[38;5;132;01m{url}\u001b[39;00m\u001b[38;5;124m'\u001b[39m\u001b[38;5;124m already in use.\u001b[39m\u001b[38;5;130;01m\\n\u001b[39;00m\u001b[38;5;124m\"\u001b[39m\n\u001b[0;32m    334\u001b[0m         \u001b[38;5;124m\"\u001b[39m\u001b[38;5;124m    Try passing a different port to run_server.\u001b[39m\u001b[38;5;124m\"\u001b[39m\u001b[38;5;241m.\u001b[39mformat(\n\u001b[0;32m    335\u001b[0m             url\u001b[38;5;241m=\u001b[39murl\n\u001b[0;32m    336\u001b[0m         )\n\u001b[0;32m    337\u001b[0m     )\n",
      "\u001b[1;31mOSError\u001b[0m: Address 'http://127.0.0.1:8050' already in use.\n    Try passing a different port to run_server."
     ]
    }
   ],
   "source": [
    "app.run_server(mode='inline')"
   ]
  },
  {
   "cell_type": "code",
   "execution_count": null,
   "metadata": {},
   "outputs": [],
   "source": []
  }
 ],
 "metadata": {
  "colab": {
   "provenance": []
  },
  "kernelspec": {
   "display_name": "Python 3 (ipykernel)",
   "language": "python",
   "name": "python3"
  },
  "language_info": {
   "codemirror_mode": {
    "name": "ipython",
    "version": 3
   },
   "file_extension": ".py",
   "mimetype": "text/x-python",
   "name": "python",
   "nbconvert_exporter": "python",
   "pygments_lexer": "ipython3",
   "version": "3.9.12"
  }
 },
 "nbformat": 4,
 "nbformat_minor": 1
}
